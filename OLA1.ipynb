{
 "cells": [
  {
   "cell_type": "markdown",
   "metadata": {},
   "source": [
    "# 1. Render the formulas\n",
    "\n",
    "Below are the three formulas rendered using \\(\\LaTeX\\) math mode:\n",
    "\n",
    "$$\n",
    "\\zeta(x) = \\log\\bigl(1 + e^x\\bigr),\\quad\n",
    "\\sigma(x) = \\frac{1}{1 + e^{-x}},\\quad\n",
    "y_i = \\frac{e^{y_i}}{\\sum_{j=1}^N e^{y_j}}.\n",
    "$$\n"
   ]
  },
  {
   "cell_type": "markdown",
   "metadata": {},
   "source": [
    "# 2. Plot the function  \\( y = \\frac{1}{1 + e^{-x}} \\) in the range \\([-5,5]\\)"
   ]
  },
  {
   "cell_type": "code",
   "metadata": {
    "tags": []
   },
   "outputs": [],
   "source": [
    "import numpy as np\n",
    "import matplotlib.pyplot as plt\n",
    "%matplotlib inline  # Only needed if running in a classic Jupyter Notebook\n",
    "\n",
    "# Create a range of x values from -5 to 5\n",
    "x_vals = np.linspace(-5, 5, 200)\n",
    "\n",
    "# Define the function\n",
    "def sigma(x):\n",
    "    return 1 / (1 + np.exp(-x))\n",
    "\n",
    "y_vals = sigma(x_vals)\n",
    "\n",
    "# Plot\n",
    "plt.figure(figsize=(6,4))\n",
    "plt.plot(x_vals, y_vals, label='$y = 1/(1+e^{-x})$')\n",
    "plt.title('Logistic (Sigmoid) Function')\n",
    "plt.xlabel('x')\n",
    "plt.ylabel('y')\n",
    "plt.grid(True)\n",
    "plt.legend()\n",
    "plt.show()"
   ]
  },
  {
   "cell_type": "markdown",
   "metadata": {},
   "source": [
    "# 3. Use Sympy to calculate and then plot the derivative of the logistic function \\(y = \\sigma(x)\\)"
   ]
  },
  {
   "cell_type": "code",
   "metadata": {},
   "outputs": [],
   "source": [
    "import sympy\n",
    "\n",
    "# Define the symbolic variable and function\n",
    "x = sympy.Symbol('x', real=True)\n",
    "sigma_expr = 1/(1 + sympy.exp(-x))\n",
    "\n",
    "# Differentiate symbolically\n",
    "sigma_prime_expr = sympy.diff(sigma_expr, x)\n",
    "sigma_prime_expr_simplified = sympy.simplify(sigma_prime_expr)\n",
    "print(\"The derivative of sigma(x) is:\")\n",
    "sympy.pretty_print(sigma_prime_expr_simplified)\n",
    "\n",
    "# Convert to a callable function for plotting\n",
    "sigma_prime = sympy.lambdify(x, sigma_prime_expr_simplified, 'numpy')\n",
    "\n",
    "# Evaluate and plot derivative\n",
    "x_vals = np.linspace(-5, 5, 200)\n",
    "y_prime_vals = sigma_prime(x_vals)\n",
    "\n",
    "plt.figure(figsize=(6,4))\n",
    "plt.plot(x_vals, y_prime_vals, label=\"$y' = \\sigma'(x)$\")\n",
    "plt.title('Derivative of the Logistic (Sigmoid) Function')\n",
    "plt.xlabel('x')\n",
    "plt.ylabel('dy/dx')\n",
    "plt.grid(True)\n",
    "plt.legend()\n",
    "plt.show()"
   ]
  },
  {
   "cell_type": "markdown",
   "metadata": {},
   "source": [
    "# 4. Create vector \\(x = [5,2,8]\\), calculate its L2-norm and L1-norm"
   ]
  },
  {
   "cell_type": "code",
   "metadata": {},
   "outputs": [],
   "source": [
    "# Vector x\n",
    "x_vec = np.array([5, 2, 8])\n",
    "\n",
    "# L2 norm (Euclidean)\n",
    "l2_norm = np.linalg.norm(x_vec, ord=2)\n",
    "# L1 norm (sum of absolute values)\n",
    "l1_norm = np.linalg.norm(x_vec, ord=1)\n",
    "\n",
    "print(f\"x = {x_vec}\")\n",
    "print(f\"L2-norm of x = {l2_norm:.4f}\")\n",
    "print(f\"L1-norm of x = {l1_norm:.4f}\")"
   ]
  },
  {
   "cell_type": "markdown",
   "metadata": {},
   "source": [
    "# 5. Create \\(y = [1,3,2]\\), calculate both the Euclidean and Cosine distances between y and x"
   ]
  },
  {
   "cell_type": "code",
   "metadata": {},
   "outputs": [],
   "source": [
    "# Vector y\n",
    "y_vec = np.array([1, 3, 2])\n",
    "\n",
    "# Euclidean distance\n",
    "euclidean_dist = np.linalg.norm(x_vec - y_vec)\n",
    "\n",
    "# Cosine distance = 1 - cosine similarity\n",
    "# Cosine similarity = (x·y) / (||x|| * ||y||)\n",
    "dot_xy = np.dot(x_vec, y_vec)\n",
    "norm_x = np.linalg.norm(x_vec)\n",
    "norm_y = np.linalg.norm(y_vec)\n",
    "cosine_similarity = dot_xy / (norm_x * norm_y)\n",
    "cosine_distance = 1 - cosine_similarity\n",
    "\n",
    "print(f\"x = {x_vec}\")\n",
    "print(f\"y = {y_vec}\")\n",
    "print(f\"Euclidean distance between x and y = {euclidean_dist:.4f}\")\n",
    "print(f\"Cosine distance between x and y = {cosine_distance:.4f}\")"
   ]
  },
  {
   "cell_type": "markdown",
   "metadata": {},
   "source": [
    "# 6. Create and pretty-print matrix \\( A = \\begin{bmatrix}\n",
    "1 & 2 & 3 \\\\\n",
    "4 & 5 & 6 \\\\\n",
    "7 & 8 & 9 \\\\\n",
    "10 & 11 & 12 \\\\\n",
    "13 & 14 & 15\n",
    "\\end{bmatrix} \\)"
   ]
  },
  {
   "cell_type": "code",
   "metadata": {},
   "outputs": [],
   "source": [
    "import sympy\n",
    "\n",
    "# Create A as a Sympy Matrix (for pretty-print)\n",
    "A_sym = sympy.Matrix([\n",
    "    [1,  2,  3],\n",
    "    [4,  5,  6],\n",
    "    [7,  8,  9],\n",
    "    [10, 11, 12],\n",
    "    [13, 14, 15]\n",
    "])\n",
    "\n",
    "print(\"Matrix A:\")\n",
    "sympy.pretty_print(A_sym)"
   ]
  },
  {
   "cell_type": "markdown",
   "metadata": {},
   "source": [
    "# 7. Multiply \\(A\\) by \\(x\\) and \\(y\\) and pretty-print each result"
   ]
  },
  {
   "cell_type": "code",
   "metadata": {},
   "outputs": [],
   "source": [
    "# We'll use the same A in numeric form for the multiplication\n",
    "A = np.array(A_sym.tolist(), dtype=float)\n",
    "\n",
    "Ax = A @ x_vec  # A times x\n",
    "Ay = A @ y_vec  # A times y\n",
    "\n",
    "# Convert results back to sympy for pretty printing\n",
    "Ax_sym = sympy.Matrix(Ax)\n",
    "Ay_sym = sympy.Matrix(Ay)\n",
    "\n",
    "print(\"A x =\")\n",
    "sympy.pretty_print(Ax_sym)\n",
    "print(\"\\nA y =\")\n",
    "sympy.pretty_print(Ay_sym)"
   ]
  },
  {
   "cell_type": "markdown",
   "metadata": {},
   "source": [
    "# 8. Create the matrix \\( B \\) and compute \\( A B \\)"
   ]
  },
  {
   "cell_type": "code",
   "metadata": {},
   "outputs": [],
   "source": [
    "# Let's assume B is a 3x4 matrix:\n",
    "B_sym = sympy.Matrix([\n",
    "    [1,  2,  3,  4],\n",
    "    [5,  6,  7,  8],\n",
    "    [9, 10, 11, 12]\n",
    "])\n",
    "\n",
    "print(\"Matrix B:\")\n",
    "sympy.pretty_print(B_sym)\n",
    "\n",
    "# Compute A B\n",
    "AB_sym = A_sym * B_sym\n",
    "print(\"\\nA B =\")\n",
    "sympy.pretty_print(AB_sym)"
   ]
  },
  {
   "cell_type": "markdown",
   "metadata": {},
   "source": [
    "# 9. Calculate the pairwise Euclidean distance matrix for the row-vectors in \\(A\\)"
   ]
  },
  {
   "cell_type": "code",
   "metadata": {},
   "outputs": [],
   "source": [
    "# We'll treat each row of A as a vector.\n",
    "from scipy.spatial.distance import cdist\n",
    "\n",
    "# A (5 x 3)\n",
    "A_rows = A  # shape (5,3)\n",
    "# We want the 5x5 distance matrix\n",
    "dist_matrix = cdist(A_rows, A_rows, metric='euclidean')\n",
    "\n",
    "# Convert to sympy for pretty printing\n",
    "dist_matrix_sym = sympy.Matrix(dist_matrix)\n",
    "\n",
    "print(\"Pairwise Euclidean distance matrix for rows in A:\")\n",
    "sympy.pretty_print(dist_matrix_sym)"
   ]
  },
  {
   "cell_type": "markdown",
   "metadata": {},
   "source": [
    "# 10. Calculate the square 3x3 matrix \\( C = B B^T \\)"
   ]
  },
  {
   "cell_type": "code",
   "metadata": {},
   "outputs": [],
   "source": [
    "B = np.array(B_sym.tolist(), dtype=float)\n",
    "C = B @ B.T  # shape (3,3)\n",
    "\n",
    "C_sym = sympy.Matrix(C)\n",
    "print(\"C = B B^T =\")\n",
    "sympy.pretty_print(C_sym)"
   ]
  },
  {
   "cell_type": "markdown",
   "metadata": {},
   "source": [
    "# 11. Calculate the Eigen Decomposition for \\(C\\)"
   ]
  },
  {
   "cell_type": "code",
   "metadata": {},
   "outputs": [],
   "source": [
    "# We'll use numpy's eig function.\n",
    "\n",
    "vals, vecs = np.linalg.eig(C)\n",
    "\n",
    "print(\"Eigenvalues (Lambda):\")\n",
    "Lambda_sym = sympy.Matrix(np.diag(vals))\n",
    "sympy.pretty_print(Lambda_sym)\n",
    "\n",
    "print(\"\\nEigenvectors (columns of Q):\")\n",
    "Q_sym = sympy.Matrix(vecs)\n",
    "sympy.pretty_print(Q_sym)"
   ]
  },
  {
   "cell_type": "markdown",
   "metadata": {},
   "source": [
    "# 12. Use the \\(Q\\) and \\(\\Lambda\\) matrices from Problem 11 to numerically recalculate \\(C\\)"
   ]
  },
  {
   "cell_type": "code",
   "metadata": {},
   "outputs": [],
   "source": [
    "# Reconstruct C = Q * Lambda * Q^-1\n",
    "# (Since C is symmetric, Q^-1 = Q^T, but we'll just do the general approach.)\n",
    "\n",
    "Q = vecs\n",
    "Lambda = np.diag(vals)\n",
    "C_reconstructed = Q @ Lambda @ np.linalg.inv(Q)\n",
    "\n",
    "C_reconstructed_sym = sympy.Matrix(C_reconstructed)\n",
    "print(\"Reconstructed C (Q * Lambda * Q^-1) =\")\n",
    "sympy.pretty_print(C_reconstructed_sym)\n",
    "\n",
    "print(\"\\nCompare with original C:\")\n",
    "C_sym = sympy.Matrix(C)\n",
    "sympy.pretty_print(C_sym)"
   ]
  },
  {
   "cell_type": "markdown",
   "metadata": {},
   "source": [
    "# 13. Calculate the Singular Value Decomposition (SVD) for \\(C\\)"
   ]
  },
  {
   "cell_type": "code",
   "metadata": {},
   "outputs": [],
   "source": [
    "# SVD: C = U Sigma V^T\n",
    "\n",
    "U, svals, Vt = np.linalg.svd(C)\n",
    "\n",
    "print(\"Matrix U:\")\n",
    "sympy.pretty_print(sympy.Matrix(U))\n",
    "\n",
    "print(\"\\nSingular values (Sigma on diagonal):\")\n",
    "Sigma_sym = sympy.diag(*svals)\n",
    "sympy.pretty_print(Sigma_sym)\n",
    "\n",
    "print(\"\\nMatrix V^T:\")\n",
    "sympy.pretty_print(sympy.Matrix(Vt))"
   ]
  },
  {
   "cell_type": "markdown",
   "metadata": {},
   "source": [
    "# 14. Use \\(U, \\Sigma, V^T\\) from Problem 13 to numerically recalculate \\(C\\)"
   ]
  },
  {
   "cell_type": "code",
   "metadata": {},
   "outputs": [],
   "source": [
    "Sigma = np.zeros_like(C)\n",
    "np.fill_diagonal(Sigma, svals)  # place the singular values on the diagonal\n",
    "\n",
    "C_svd_reconstructed = U @ Sigma @ Vt\n",
    "\n",
    "C_svd_reconstructed_sym = sympy.Matrix(C_svd_reconstructed)\n",
    "print(\"Reconstructed C using SVD =\")\n",
    "sympy.pretty_print(C_svd_reconstructed_sym)\n",
    "\n",
    "print(\"\\nCompare with original C:\")\n",
    "sympy.pretty_print(C_sym)"
   ]
  },
  {
   "cell_type": "markdown",
   "metadata": {},
   "source": [
    "---\n",
    "## End of Notebook\n",
    "\n",
    "This notebook covers:\n",
    "1. Rendering formulas in Markdown.\n",
    "2. Plotting the logistic (sigmoid) function.\n",
    "3. Symbolic differentiation with Sympy and plotting.\n",
    "4. Vector norms (L1, L2).\n",
    "5. Euclidean and Cosine distances.\n",
    "6. Matrix creation and pretty-printing.\n",
    "7. Matrix–vector products.\n",
    "8. Matrix–matrix product.\n",
    "9. Pairwise distance matrix.\n",
    "10. Building a matrix \\(C\\) from \\(B B^T\\).\n",
    "11. Eigen decomposition.\n",
    "12. Reconstructing a matrix from eigen decomposition.\n",
    "13. SVD decomposition.\n",
    "14. Reconstructing a matrix from SVD.\n"
   ]
  }
 ],
 "metadata": {
  "kernelspec": {
   "display_name": "Python 3",
   "language": "python",
   "name": "python3"
  },
  "language_info": {
   "name": "python"
  }
 },
 "nbformat": 4,
 "nbformat_minor": 5
}
