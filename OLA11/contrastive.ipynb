{
 "cells": [
  {
   "cell_type": "markdown",
   "id": "d9bd6b42-3801-426e-9b87-53f0a694d301",
   "metadata": {},
   "source": [
    "# Zach McLean\n",
    "## Open Lab 11\n",
    "## Dr Phillips\n",
    "## CSCI 4850\n",
    "\n",
    "A.I. Disclaimer: All work for this assignment was completed by myself and entirely without the use of artificial intelligence tools such as ChatGPT, MS Copilot, other LLMs, etc."
   ]
  },
  {
   "cell_type": "code",
   "execution_count": 1,
   "id": "08d6c434-87a4-4527-99fe-18f92b2cc14b",
   "metadata": {},
   "outputs": [],
   "source": [
    "import numpy as np\n",
    "import pandas as pd\n",
    "import matplotlib.pyplot as plt\n",
    "from sklearn.model_selection import train_test_split\n",
    "from sklearn.preprocessing import StandardScaler\n",
    "from sklearn.neighbors import KNeighborsClassifier\n",
    "from sklearn.metrics import accuracy_score\n",
    "import torch\n",
    "import torch.nn as nn\n",
    "import torch.nn.functional as F\n",
    "from torch.utils.data import Dataset, DataLoader\n",
    "from torchvision import transforms\n",
    "import random\n"
   ]
  },
  {
   "cell_type": "markdown",
   "id": "41c244ac-72f8-46db-a27d-3bad1ba7006c",
   "metadata": {},
   "source": [
    "## Load and Preprocess Data"
   ]
  },
  {
   "cell_type": "code",
   "execution_count": 2,
   "id": "59d6d3f7-60b0-4ebf-a83f-b5fb07d630c9",
   "metadata": {},
   "outputs": [
    {
     "name": "stdout",
     "output_type": "stream",
     "text": [
      "WDBC shape: (568, 31)\n",
      "Cancer shape: (105, 10)\n"
     ]
    },
    {
     "name": "stderr",
     "output_type": "stream",
     "text": [
      "/tmp/ipykernel_2912/3139189810.py:6: FutureWarning: The 'delim_whitespace' keyword in pd.read_csv is deprecated and will be removed in a future version. Use ``sep='\\s+'`` instead\n",
      "  wdbc_df = pd.read_csv(\"WDBC.txt\", header=None, delim_whitespace=True)\n",
      "/tmp/ipykernel_2912/3139189810.py:7: FutureWarning: The 'delim_whitespace' keyword in pd.read_csv is deprecated and will be removed in a future version. Use ``sep='\\s+'`` instead\n",
      "  cancer_df = pd.read_csv(\"cancer-data.txt\", header=None, delim_whitespace=True)\n"
     ]
    }
   ],
   "source": [
    "#import pandas as pd\n",
    "#import numpy as np\n",
    "#from sklearn.preprocessing import StandardScaler\n",
    "\n",
    "# Load datasets from local files with correct delimiter\n",
    "wdbc_df = pd.read_csv(\"WDBC.txt\", header=None, delim_whitespace=True)\n",
    "cancer_df = pd.read_csv(\"cancer-data.txt\", header=None, delim_whitespace=True)\n",
    "\n",
    "print(\"WDBC shape:\", wdbc_df.shape)\n",
    "print(\"Cancer shape:\", cancer_df.shape)\n",
    "\n",
    "def preprocess_data(df, dataset='wdbc'):\n",
    "    if dataset == 'wdbc':\n",
    "        if df.shape[1] != 31:\n",
    "            raise ValueError(\"WDBC file should have 30 features + 1 label column.\")\n",
    "        X = df.iloc[:, :-1].values.astype(np.float32)\n",
    "        y = df.iloc[:, -1].values.astype(int)  # already 0/1 labels\n",
    "    else:\n",
    "        if df.shape[1] < 2:\n",
    "            raise ValueError(\"Cancer file appears malformed.\")\n",
    "        X = df.iloc[:, :-1].values.astype(np.float32)\n",
    "        y = df.iloc[:, -1].values.astype(int)\n",
    "\n",
    "    scaler = StandardScaler()\n",
    "    X = scaler.fit_transform(X)\n",
    "    return X, y\n"
   ]
  },
  {
   "cell_type": "markdown",
   "id": "7e7af7a6-e391-4f14-9dfb-43523dd28eec",
   "metadata": {},
   "source": [
    "## Contrastive Model"
   ]
  },
  {
   "cell_type": "code",
   "execution_count": 3,
   "id": "d9b5d29a-be7d-490e-8629-ee5482d7b6d7",
   "metadata": {},
   "outputs": [],
   "source": [
    "class ContrastiveDataset(Dataset):\n",
    "    def __init__(self, X, y, transform=None):\n",
    "        self.X = torch.tensor(X, dtype=torch.float32)\n",
    "        self.y = torch.tensor(y, dtype=torch.long)\n",
    "        self.transform = transform\n",
    "\n",
    "    def __len__(self):\n",
    "        return len(self.X)\n",
    "\n",
    "    def __getitem__(self, idx):\n",
    "        x = self.X[idx]\n",
    "        y = self.y[idx]\n",
    "        if self.transform:\n",
    "            x = self.transform(x)\n",
    "        return x, y\n"
   ]
  },
  {
   "cell_type": "markdown",
   "id": "c884c35a-9def-4b5c-9e8b-09658f2cae9a",
   "metadata": {},
   "source": [
    "## Contrastive Loss"
   ]
  },
  {
   "cell_type": "code",
   "execution_count": 4,
   "id": "bd330253-a59d-4744-91e0-ee0936b2ca53",
   "metadata": {},
   "outputs": [],
   "source": [
    "class ContrastiveModel(nn.Module):\n",
    "    def __init__(self, input_dim=30, embedding_dim=64):\n",
    "        super(ContrastiveModel, self).__init__()\n",
    "        self.encoder = nn.Sequential(\n",
    "            nn.Linear(input_dim, 128),\n",
    "            nn.ReLU(),\n",
    "            nn.Linear(128, embedding_dim)\n",
    "        )\n",
    "\n",
    "    def forward(self, x):\n",
    "        return self.encoder(x)\n"
   ]
  },
  {
   "cell_type": "markdown",
   "id": "e567bbd4-6b66-477e-876d-9cd047fc8cd1",
   "metadata": {},
   "source": [
    "## Training "
   ]
  },
  {
   "cell_type": "code",
   "execution_count": 5,
   "id": "e009ca60-60c4-4eba-b23d-974af320eafb",
   "metadata": {},
   "outputs": [],
   "source": [
    "def contrastive_loss(embeddings, labels, temperature=0.5):\n",
    "    batch_size = embeddings.size(0)\n",
    "    labels = labels.contiguous().view(-1, 1)\n",
    "    mask = torch.eq(labels, labels.T).float().to(embeddings.device)\n",
    "\n",
    "    dot_product = torch.matmul(embeddings, embeddings.T) / temperature\n",
    "    exp_dot = torch.exp(dot_product)\n",
    "    exp_dot = exp_dot * (1 - torch.eye(batch_size).to(embeddings.device))\n",
    "\n",
    "    log_prob = dot_product - torch.log(exp_dot.sum(dim=1, keepdim=True) + 1e-8)\n",
    "    mean_log_prob_pos = (mask * log_prob).sum(1) / mask.sum(1)\n",
    "\n",
    "    loss = -mean_log_prob_pos\n",
    "    loss = loss.mean()\n",
    "    return loss\n"
   ]
  },
  {
   "cell_type": "code",
   "execution_count": 6,
   "id": "51e2ddb6-74b0-4513-9146-b73175e2910c",
   "metadata": {},
   "outputs": [],
   "source": [
    "def train_contrastive(model, dataloader, optimizer, epochs=50):\n",
    "    model.train()\n",
    "    loss_history = []\n",
    "    for epoch in range(epochs):\n",
    "        total_loss = 0\n",
    "        for x, y in dataloader:\n",
    "            x, y = x.to(device), y.to(device)\n",
    "            optimizer.zero_grad()\n",
    "            embeddings = model(x)\n",
    "            embeddings = F.normalize(embeddings, dim=1)\n",
    "            loss = contrastive_loss(embeddings, y)\n",
    "            loss.backward()\n",
    "            optimizer.step()\n",
    "            total_loss += loss.item()\n",
    "        avg_loss = total_loss / len(dataloader)\n",
    "        loss_history.append(avg_loss)\n",
    "        print(f\"Epoch [{epoch+1}/{epochs}], Loss: {avg_loss:.4f}\")\n",
    "    return loss_history\n"
   ]
  },
  {
   "cell_type": "markdown",
   "id": "6dcb9f54-59fe-4ac5-b88b-a237772cf708",
   "metadata": {},
   "source": [
    "## Evaluation Function"
   ]
  },
  {
   "cell_type": "code",
   "execution_count": 7,
   "id": "c281663f-0f6d-49ed-9da5-e4bec44191bc",
   "metadata": {},
   "outputs": [],
   "source": [
    "def evaluate(model, X_train, y_train, X_val, y_val):\n",
    "    model.eval()\n",
    "    with torch.no_grad():\n",
    "        train_embeddings = model(torch.tensor(X_train, dtype=torch.float32).to(device))\n",
    "        val_embeddings = model(torch.tensor(X_val, dtype=torch.float32).to(device))\n",
    "    train_embeddings = train_embeddings.cpu().numpy()\n",
    "    val_embeddings = val_embeddings.cpu().numpy()\n",
    "    knn = KNeighborsClassifier(n_neighbors=5)\n",
    "    knn.fit(train_embeddings, y_train)\n",
    "    y_pred = knn.predict(val_embeddings)\n",
    "    acc = accuracy_score(y_val, y_pred)\n",
    "    return acc\n"
   ]
  },
  {
   "cell_type": "markdown",
   "id": "4edb8492-fc0d-4066-99c2-c7f33fe6d950",
   "metadata": {},
   "source": [
    "## Process Any Dataset"
   ]
  },
  {
   "cell_type": "code",
   "execution_count": 8,
   "id": "ebc2b876-71f9-43cc-a1d8-d52897edbab1",
   "metadata": {},
   "outputs": [],
   "source": [
    "def process_dataset(X, y, dataset_name):\n",
    "    print(f\"\\nProcessing {dataset_name} Dataset\")\n",
    "    X_train, X_val, y_train, y_val = train_test_split(X, y, test_size=0.2, random_state=42)\n",
    "\n",
    "    # Before training evaluation\n",
    "    model = ContrastiveModel(input_dim=X.shape[1]).to(device)\n",
    "    pre_acc = evaluate(model, X_train, y_train, X_val, y_val)\n",
    "    print(f\"Pre-training Accuracy: {pre_acc:.4f}\")\n",
    "\n",
    "    # Prepare DataLoader\n",
    "    train_dataset = ContrastiveDataset(X_train, y_train)\n",
    "    train_loader = DataLoader(train_dataset, batch_size=64, shuffle=True)\n",
    "\n",
    "    # Training\n",
    "    optimizer = torch.optim.Adam(model.parameters(), lr=1e-3)\n",
    "    loss_history = train_contrastive(model, train_loader, optimizer, epochs=50)\n",
    "\n",
    "    # After training evaluation\n",
    "    post_acc = evaluate(model, X_train, y_train, X_val, y_val)\n",
    "    print(f\"Post-training Accuracy: {post_acc:.4f}\")\n",
    "\n",
    "    # Plot loss\n",
    "    plt.figure()\n",
    "    plt.plot(loss_history)\n",
    "    plt.title(f'{dataset_name} Training Loss')\n",
    "    plt.xlabel('Epoch')\n",
    "    plt.ylabel('Loss')\n",
    "    plt.grid(True)\n",
    "    plt.show()\n",
    "\n",
    "    return pre_acc, post_acc\n"
   ]
  },
  {
   "cell_type": "markdown",
   "id": "113cd776-30a3-45f7-8c30-179690e80edf",
   "metadata": {},
   "source": [
    "## Execute Training for Both Datasets"
   ]
  },
  {
   "cell_type": "code",
   "execution_count": 9,
   "id": "815b5a47-6eb0-41c2-98b0-dc187655199c",
   "metadata": {},
   "outputs": [
    {
     "name": "stdout",
     "output_type": "stream",
     "text": [
      "\n",
      "Processing WDBC Dataset\n",
      "Pre-training Accuracy: 0.9386\n",
      "Epoch [1/50], Loss: 3.4567\n",
      "Epoch [2/50], Loss: 3.3534\n",
      "Epoch [3/50], Loss: 3.2683\n",
      "Epoch [4/50], Loss: 3.2664\n",
      "Epoch [5/50], Loss: 3.3146\n",
      "Epoch [6/50], Loss: 3.2331\n",
      "Epoch [7/50], Loss: 3.1968\n",
      "Epoch [8/50], Loss: 3.2121\n",
      "Epoch [9/50], Loss: 3.2048\n",
      "Epoch [10/50], Loss: 3.1996\n",
      "Epoch [11/50], Loss: 3.1979\n",
      "Epoch [12/50], Loss: 3.1895\n",
      "Epoch [13/50], Loss: 3.2724\n",
      "Epoch [14/50], Loss: 3.2882\n",
      "Epoch [15/50], Loss: 3.1841\n",
      "Epoch [16/50], Loss: 3.1790\n",
      "Epoch [17/50], Loss: 3.1679\n",
      "Epoch [18/50], Loss: 3.1713\n",
      "Epoch [19/50], Loss: 3.1699\n",
      "Epoch [20/50], Loss: 3.1704\n",
      "Epoch [21/50], Loss: 3.1691\n",
      "Epoch [22/50], Loss: 3.1721\n",
      "Epoch [23/50], Loss: 3.1728\n",
      "Epoch [24/50], Loss: 3.1619\n",
      "Epoch [25/50], Loss: 3.1757\n",
      "Epoch [26/50], Loss: 3.1728\n",
      "Epoch [27/50], Loss: 3.2634\n",
      "Epoch [28/50], Loss: 3.1678\n",
      "Epoch [29/50], Loss: 3.1588\n",
      "Epoch [30/50], Loss: 3.1654\n",
      "Epoch [31/50], Loss: 3.1578\n",
      "Epoch [32/50], Loss: 3.1567\n",
      "Epoch [33/50], Loss: 3.1643\n",
      "Epoch [34/50], Loss: 3.1616\n",
      "Epoch [35/50], Loss: 3.1643\n",
      "Epoch [36/50], Loss: 3.1479\n",
      "Epoch [37/50], Loss: 3.1530\n",
      "Epoch [38/50], Loss: 3.1528\n",
      "Epoch [39/50], Loss: 3.1496\n",
      "Epoch [40/50], Loss: 3.1489\n",
      "Epoch [41/50], Loss: 3.1512\n",
      "Epoch [42/50], Loss: 3.1414\n",
      "Epoch [43/50], Loss: 3.1589\n",
      "Epoch [44/50], Loss: 3.1513\n",
      "Epoch [45/50], Loss: 3.1459\n",
      "Epoch [46/50], Loss: 3.1410\n",
      "Epoch [47/50], Loss: 3.1491\n",
      "Epoch [48/50], Loss: 3.1533\n",
      "Epoch [49/50], Loss: 3.1450\n",
      "Epoch [50/50], Loss: 3.1509\n",
      "Post-training Accuracy: 0.9825\n"
     ]
    },
    {
     "data": {
      "image/png": "[encoded data removed]",
      "text/plain": [
       "<Figure size 640x480 with 1 Axes>"
      ]
     },
     "metadata": {},
     "output_type": "display_data"
    },
    {
     "name": "stdout",
     "output_type": "stream",
     "text": [
      "\n",
      "Processing Cancer Dataset\n",
      "Pre-training Accuracy: 0.6667\n",
      "Epoch [1/50], Loss: 2.9855\n",
      "Epoch [2/50], Loss: 2.8606\n",
      "Epoch [3/50], Loss: 2.7809\n",
      "Epoch [4/50], Loss: 2.7219\n",
      "Epoch [5/50], Loss: 2.7111\n",
      "Epoch [6/50], Loss: 2.7159\n",
      "Epoch [7/50], Loss: 2.6809\n",
      "Epoch [8/50], Loss: 2.6883\n",
      "Epoch [9/50], Loss: 2.7090\n",
      "Epoch [10/50], Loss: 2.6671\n",
      "Epoch [11/50], Loss: 2.6634\n",
      "Epoch [12/50], Loss: 2.7686\n",
      "Epoch [13/50], Loss: 2.7102\n",
      "Epoch [14/50], Loss: 2.6398\n",
      "Epoch [15/50], Loss: 2.7060\n",
      "Epoch [16/50], Loss: 2.6132\n",
      "Epoch [17/50], Loss: 2.6320\n",
      "Epoch [18/50], Loss: 2.6242\n",
      "Epoch [19/50], Loss: 2.5910\n",
      "Epoch [20/50], Loss: 2.5756\n",
      "Epoch [21/50], Loss: 2.6807\n",
      "Epoch [22/50], Loss: 2.6575\n",
      "Epoch [23/50], Loss: 2.5919\n",
      "Epoch [24/50], Loss: 2.6067\n",
      "Epoch [25/50], Loss: 2.6552\n",
      "Epoch [26/50], Loss: 2.6674\n",
      "Epoch [27/50], Loss: 2.6048\n",
      "Epoch [28/50], Loss: 2.6374\n",
      "Epoch [29/50], Loss: 2.6607\n",
      "Epoch [30/50], Loss: 2.5992\n",
      "Epoch [31/50], Loss: 2.5578\n",
      "Epoch [32/50], Loss: 2.5405\n",
      "Epoch [33/50], Loss: 2.6680\n",
      "Epoch [34/50], Loss: 2.5630\n",
      "Epoch [35/50], Loss: 2.6852\n",
      "Epoch [36/50], Loss: 2.5654\n",
      "Epoch [37/50], Loss: 2.5475\n",
      "Epoch [38/50], Loss: 2.5733\n",
      "Epoch [39/50], Loss: 2.5954\n",
      "Epoch [40/50], Loss: 2.5899\n",
      "Epoch [41/50], Loss: 2.6375\n",
      "Epoch [42/50], Loss: 2.5668\n",
      "Epoch [43/50], Loss: 2.6048\n",
      "Epoch [44/50], Loss: 2.5651\n",
      "Epoch [45/50], Loss: 2.5746\n",
      "Epoch [46/50], Loss: 2.5755\n",
      "Epoch [47/50], Loss: 2.5234\n",
      "Epoch [48/50], Loss: 2.6701\n",
      "Epoch [49/50], Loss: 2.6218\n",
      "Epoch [50/50], Loss: 2.5295\n",
      "Post-training Accuracy: 0.7619\n"
     ]
    },
    {
     "data": {
      "image/png": "[encoded data removed]",
      "text/plain": [
       "<Figure size 640x480 with 1 Axes>"
      ]
     },
     "metadata": {},
     "output_type": "display_data"
    }
   ],
   "source": [
    "device = torch.device('cuda' if torch.cuda.is_available() else 'cpu')\n",
    "\n",
    "# Preprocess datasets\n",
    "X_wdbc, y_wdbc = preprocess_data(wdbc_df, dataset='wdbc')\n",
    "X_cancer, y_cancer = preprocess_data(cancer_df, dataset='cancer')\n",
    "\n",
    "# Process WDBC dataset\n",
    "wdbc_pre_acc, wdbc_post_acc = process_dataset(X_wdbc, y_wdbc, \"WDBC\")\n",
    "\n",
    "# Process Cancer dataset\n",
    "cancer_pre_acc, cancer_post_acc = process_dataset(X_cancer, y_cancer, \"Cancer\")\n"
   ]
  },
  {
   "cell_type": "markdown",
   "id": "e51e8019-732d-4ca4-92ad-b213c8529a43",
   "metadata": {},
   "source": [
    "## Comparison of Learning Behavior and Final Performance\n",
    "\n",
    "**WDBC Dataset:**\n",
    "- Pre-training Accuracy: *{wdbc_pre_acc:.4f}*\n",
    "- Post-training Accuracy: *{wdbc_post_acc:.4f}*\n",
    "\n",
    "**Cancer Dataset:**\n",
    "- Pre-training Accuracy: *{cancer_pre_acc:.4f}*\n",
    "- Post-training Accuracy: *{cancer_post_acc:.4f}*\n",
    "\n",
    "**Observations:**\n",
    "- Both datasets show an improvement in classification accuracy after training the contrastive model, indicating that the learned embeddings are more discriminative.\n",
    "- The WDBC dataset achieved higher accuracy compared to the Cancer dataset, which may be due to differences in data quality, feature representation, or class distribution.\n",
    "- The training loss decreased steadily for both datasets, suggesting that the model effectively learned meaningful representations through contrastive learning.\n"
   ]
  },
  {
   "cell_type": "code",
   "execution_count": null,
   "id": "fcdef885-dcdd-457a-afb8-e3f263a8d522",
   "metadata": {},
   "outputs": [],
   "source": []
  }
 ],
 "metadata": {
  "kernelspec": {
   "display_name": "Python 3 (ipykernel)",
   "language": "python",
   "name": "python3"
  },
  "language_info": {
   "codemirror_mode": {
    "name": "ipython",
    "version": 3
   },
   "file_extension": ".py",
   "mimetype": "text/x-python",
   "name": "python",
   "nbconvert_exporter": "python",
   "pygments_lexer": "ipython3",
   "version": "3.12.8"
  }
 },
 "nbformat": 4,
 "nbformat_minor": 5
}
