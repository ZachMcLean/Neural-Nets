{
 "cells": [
  {
   "cell_type": "markdown",
   "id": "2f06eb62-e648-4a1f-88d9-d54528832b5f",
   "metadata": {},
   "source": [
    "# Zach McLean\n",
    "## Open Lab 10\n",
    "## Dr Phillips\n",
    "## CSCI 4850\n",
    "\n",
    "A.I. Disclaimer: All work for this assignment was completed by myself and entirely without the use of artificial intelligence tools such as ChatGPT, MS Copilot, other LLMs, etc."
   ]
  },
  {
   "cell_type": "markdown",
   "id": "baae99e3-9c64-48eb-9280-40c3ea27af82",
   "metadata": {},
   "source": [
    "# 📊 Translation Results Analysis\n",
    "\n",
    "This notebook compares two English→Portuguese translation models:\n",
    "- **Transformer** (sinusoidal positional encodings)\n",
    "- **LSTM** (residual LSTM layers)\n",
    "\n",
    "We will visualize:\n",
    "1. **Training Loss** over epochs  \n",
    "2. **Validation Accuracy** (with teacher forcing) over epochs  \n",
    "3. **Test Accuracy** (without teacher forcing) as a bar chart  \n",
    "\n",
    "**Logs are expected at:**\n",
    "- `translation-transformer/version_v1/metrics.csv`\n",
    "- `translation-lstm/version_v1/metrics.csv`\n",
    "\n",
    "Feel free to inspect other metrics (e.g. `val_loss`) as needed.\n"
   ]
  },
  {
   "cell_type": "code",
   "execution_count": 3,
   "id": "697e635e-3209-4707-8ad9-2e5fc7a5fac9",
   "metadata": {},
   "outputs": [
    {
     "name": "stdout",
     "output_type": "stream",
     "text": [
      "Transformer metrics columns: ['epoch', 'step', 'test_acc', 'train_loss_epoch', 'train_loss_step', 'val_acc', 'val_loss']\n",
      "LSTM metrics columns:       ['epoch', 'step', 'train_loss_epoch', 'train_loss_step', 'val_acc', 'val_loss']\n"
     ]
    },
    {
     "data": {
      "text/html": [
       "<div>\n",
       "<style scoped>\n",
       "    .dataframe tbody tr th:only-of-type {\n",
       "        vertical-align: middle;\n",
       "    }\n",
       "\n",
       "    .dataframe tbody tr th {\n",
       "        vertical-align: top;\n",
       "    }\n",
       "\n",
       "    .dataframe thead th {\n",
       "        text-align: right;\n",
       "    }\n",
       "</style>\n",
       "<table border=\"1\" class=\"dataframe\">\n",
       "  <thead>\n",
       "    <tr style=\"text-align: right;\">\n",
       "      <th></th>\n",
       "      <th>epoch</th>\n",
       "      <th>step</th>\n",
       "      <th>test_acc</th>\n",
       "      <th>train_loss_epoch</th>\n",
       "      <th>train_loss_step</th>\n",
       "      <th>val_acc</th>\n",
       "      <th>val_loss</th>\n",
       "    </tr>\n",
       "  </thead>\n",
       "  <tbody>\n",
       "    <tr>\n",
       "      <th>0</th>\n",
       "      <td>0</td>\n",
       "      <td>49</td>\n",
       "      <td>NaN</td>\n",
       "      <td>NaN</td>\n",
       "      <td>7.456495</td>\n",
       "      <td>NaN</td>\n",
       "      <td>NaN</td>\n",
       "    </tr>\n",
       "    <tr>\n",
       "      <th>1</th>\n",
       "      <td>0</td>\n",
       "      <td>99</td>\n",
       "      <td>NaN</td>\n",
       "      <td>NaN</td>\n",
       "      <td>5.906509</td>\n",
       "      <td>NaN</td>\n",
       "      <td>NaN</td>\n",
       "    </tr>\n",
       "    <tr>\n",
       "      <th>2</th>\n",
       "      <td>0</td>\n",
       "      <td>149</td>\n",
       "      <td>NaN</td>\n",
       "      <td>NaN</td>\n",
       "      <td>5.083464</td>\n",
       "      <td>NaN</td>\n",
       "      <td>NaN</td>\n",
       "    </tr>\n",
       "    <tr>\n",
       "      <th>3</th>\n",
       "      <td>0</td>\n",
       "      <td>199</td>\n",
       "      <td>NaN</td>\n",
       "      <td>NaN</td>\n",
       "      <td>4.859570</td>\n",
       "      <td>NaN</td>\n",
       "      <td>NaN</td>\n",
       "    </tr>\n",
       "    <tr>\n",
       "      <th>4</th>\n",
       "      <td>0</td>\n",
       "      <td>249</td>\n",
       "      <td>NaN</td>\n",
       "      <td>NaN</td>\n",
       "      <td>4.399991</td>\n",
       "      <td>NaN</td>\n",
       "      <td>NaN</td>\n",
       "    </tr>\n",
       "  </tbody>\n",
       "</table>\n",
       "</div>"
      ],
      "text/plain": [
       "   epoch  step  test_acc  train_loss_epoch  train_loss_step  val_acc  val_loss\n",
       "0      0    49       NaN               NaN         7.456495      NaN       NaN\n",
       "1      0    99       NaN               NaN         5.906509      NaN       NaN\n",
       "2      0   149       NaN               NaN         5.083464      NaN       NaN\n",
       "3      0   199       NaN               NaN         4.859570      NaN       NaN\n",
       "4      0   249       NaN               NaN         4.399991      NaN       NaN"
      ]
     },
     "metadata": {},
     "output_type": "display_data"
    },
    {
     "data": {
      "text/html": [
       "<div>\n",
       "<style scoped>\n",
       "    .dataframe tbody tr th:only-of-type {\n",
       "        vertical-align: middle;\n",
       "    }\n",
       "\n",
       "    .dataframe tbody tr th {\n",
       "        vertical-align: top;\n",
       "    }\n",
       "\n",
       "    .dataframe thead th {\n",
       "        text-align: right;\n",
       "    }\n",
       "</style>\n",
       "<table border=\"1\" class=\"dataframe\">\n",
       "  <thead>\n",
       "    <tr style=\"text-align: right;\">\n",
       "      <th></th>\n",
       "      <th>epoch</th>\n",
       "      <th>step</th>\n",
       "      <th>train_loss_epoch</th>\n",
       "      <th>train_loss_step</th>\n",
       "      <th>val_acc</th>\n",
       "      <th>val_loss</th>\n",
       "    </tr>\n",
       "  </thead>\n",
       "  <tbody>\n",
       "    <tr>\n",
       "      <th>0</th>\n",
       "      <td>0</td>\n",
       "      <td>49</td>\n",
       "      <td>NaN</td>\n",
       "      <td>9.106931</td>\n",
       "      <td>NaN</td>\n",
       "      <td>NaN</td>\n",
       "    </tr>\n",
       "    <tr>\n",
       "      <th>1</th>\n",
       "      <td>0</td>\n",
       "      <td>99</td>\n",
       "      <td>NaN</td>\n",
       "      <td>6.341774</td>\n",
       "      <td>NaN</td>\n",
       "      <td>NaN</td>\n",
       "    </tr>\n",
       "    <tr>\n",
       "      <th>2</th>\n",
       "      <td>0</td>\n",
       "      <td>149</td>\n",
       "      <td>NaN</td>\n",
       "      <td>5.404445</td>\n",
       "      <td>NaN</td>\n",
       "      <td>NaN</td>\n",
       "    </tr>\n",
       "    <tr>\n",
       "      <th>3</th>\n",
       "      <td>0</td>\n",
       "      <td>199</td>\n",
       "      <td>NaN</td>\n",
       "      <td>4.998902</td>\n",
       "      <td>NaN</td>\n",
       "      <td>NaN</td>\n",
       "    </tr>\n",
       "    <tr>\n",
       "      <th>4</th>\n",
       "      <td>0</td>\n",
       "      <td>249</td>\n",
       "      <td>NaN</td>\n",
       "      <td>4.948950</td>\n",
       "      <td>NaN</td>\n",
       "      <td>NaN</td>\n",
       "    </tr>\n",
       "  </tbody>\n",
       "</table>\n",
       "</div>"
      ],
      "text/plain": [
       "   epoch  step  train_loss_epoch  train_loss_step  val_acc  val_loss\n",
       "0      0    49               NaN         9.106931      NaN       NaN\n",
       "1      0    99               NaN         6.341774      NaN       NaN\n",
       "2      0   149               NaN         5.404445      NaN       NaN\n",
       "3      0   199               NaN         4.998902      NaN       NaN\n",
       "4      0   249               NaN         4.948950      NaN       NaN"
      ]
     },
     "metadata": {},
     "output_type": "display_data"
    }
   ],
   "source": [
    "import pandas as pd\n",
    "import matplotlib.pyplot as plt\n",
    "\n",
    "# Load the CSV metrics logged by the PyTorch‐Lightning CSVLogger\n",
    "transformer_df = pd.read_csv('translation-transformer/version_2/metrics.csv')\n",
    "lstm_df       = pd.read_csv('translation-lstm/version_2/metrics.csv')\n",
    "\n",
    "# Peek at the first few rows to confirm column names\n",
    "print(\"Transformer metrics columns:\", transformer_df.columns.tolist())\n",
    "print(\"LSTM metrics columns:      \",    lstm_df.columns.tolist())\n",
    "\n",
    "# Optionally display the head of each DataFrame\n",
    "display(transformer_df.head())\n",
    "display(lstm_df.head())\n"
   ]
  },
  {
   "cell_type": "code",
   "execution_count": 4,
   "id": "94a87273-a9da-4ce7-bc02-f589eee409d4",
   "metadata": {},
   "outputs": [
    {
     "name": "stdout",
     "output_type": "stream",
     "text": [
      "Using:\n",
      " • train loss column: train_loss_epoch\n",
      " • val accuracy  column: val_acc\n",
      " • test accuracy column: test_acc\n"
     ]
    }
   ],
   "source": [
    "# Auto-detect the relevant metric columns by substring\n",
    "train_loss_col = next(\n",
    "    col for col in transformer_df.columns if \"train_loss\" in col\n",
    ")\n",
    "val_acc_col = next(\n",
    "    col for col in transformer_df.columns if col.startswith(\"val_acc\")\n",
    ")\n",
    "test_acc_col = next(\n",
    "    col for col in transformer_df.columns if \"test_acc\" in col\n",
    ")\n",
    "\n",
    "print(\"Using:\")\n",
    "print(\" • train loss column:\", train_loss_col)\n",
    "print(\" • val accuracy  column:\", val_acc_col)\n",
    "print(\" • test accuracy column:\", test_acc_col)\n"
   ]
  },
  {
   "cell_type": "code",
   "execution_count": 5,
   "id": "21a7da44-261e-4bd2-b105-056140d385b6",
   "metadata": {},
   "outputs": [
    {
     "data": {
      "image/png": "[encoded data removed]",
      "text/plain": [
       "<Figure size 1000x600 with 1 Axes>"
      ]
     },
     "metadata": {},
     "output_type": "display_data"
    }
   ],
   "source": [
    "plt.figure(figsize=(10, 6))\n",
    "plt.plot(transformer_df['epoch'], transformer_df[train_loss_col], label='Transformer', linewidth=2)\n",
    "plt.plot(lstm_df['epoch'],        lstm_df[train_loss_col],        label='LSTM',        linewidth=2)\n",
    "plt.xlabel('Epoch', fontsize=14)\n",
    "plt.ylabel('Training Loss', fontsize=14)\n",
    "plt.title('Training Loss per Epoch', fontsize=16)\n",
    "plt.legend(fontsize=12)\n",
    "plt.grid(alpha=0.3)\n",
    "plt.tight_layout()\n",
    "plt.show()"
   ]
  },
  {
   "cell_type": "code",
   "execution_count": 6,
   "id": "0adaa881-ff26-41d4-bf40-5309a3269ff1",
   "metadata": {},
   "outputs": [
    {
     "data": {
      "image/png": "[encoded data removed]",
      "text/plain": [
       "<Figure size 1000x600 with 1 Axes>"
      ]
     },
     "metadata": {},
     "output_type": "display_data"
    }
   ],
   "source": [
    "plt.figure(figsize=(10, 6))\n",
    "plt.plot(transformer_df['epoch'], transformer_df[val_acc_col], label='Transformer', linewidth=2)\n",
    "plt.plot(lstm_df['epoch'],        lstm_df[val_acc_col],        label='LSTM',        linewidth=2)\n",
    "plt.xlabel('Epoch', fontsize=14)\n",
    "plt.ylabel('Validation Accuracy', fontsize=14)\n",
    "plt.title('Validation Accuracy per Epoch (Teacher Forcing)', fontsize=16)\n",
    "plt.legend(fontsize=12)\n",
    "plt.grid(alpha=0.3)\n",
    "plt.tight_layout()\n",
    "plt.show()\n"
   ]
  },
  {
   "cell_type": "code",
   "execution_count": 7,
   "id": "95666c39-917d-424d-b708-d2de90f33760",
   "metadata": {},
   "outputs": [
    {
     "ename": "KeyError",
     "evalue": "'test_acc'",
     "output_type": "error",
     "traceback": [
      "\u001b[0;31m---------------------------------------------------------------------------\u001b[0m",
      "\u001b[0;31mKeyError\u001b[0m                                  Traceback (most recent call last)",
      "File \u001b[0;32m/opt/conda/lib/python3.12/site-packages/pandas/core/indexes/base.py:3805\u001b[0m, in \u001b[0;36mIndex.get_loc\u001b[0;34m(self, key)\u001b[0m\n\u001b[1;32m   3804\u001b[0m \u001b[38;5;28;01mtry\u001b[39;00m:\n\u001b[0;32m-> 3805\u001b[0m     \u001b[38;5;28;01mreturn\u001b[39;00m \u001b[38;5;28;43mself\u001b[39;49m\u001b[38;5;241;43m.\u001b[39;49m\u001b[43m_engine\u001b[49m\u001b[38;5;241;43m.\u001b[39;49m\u001b[43mget_loc\u001b[49m\u001b[43m(\u001b[49m\u001b[43mcasted_key\u001b[49m\u001b[43m)\u001b[49m\n\u001b[1;32m   3806\u001b[0m \u001b[38;5;28;01mexcept\u001b[39;00m \u001b[38;5;167;01mKeyError\u001b[39;00m \u001b[38;5;28;01mas\u001b[39;00m err:\n",
      "File \u001b[0;32mindex.pyx:167\u001b[0m, in \u001b[0;36mpandas._libs.index.IndexEngine.get_loc\u001b[0;34m()\u001b[0m\n",
      "File \u001b[0;32mindex.pyx:196\u001b[0m, in \u001b[0;36mpandas._libs.index.IndexEngine.get_loc\u001b[0;34m()\u001b[0m\n",
      "File \u001b[0;32mpandas/_libs/hashtable_class_helper.pxi:7081\u001b[0m, in \u001b[0;36mpandas._libs.hashtable.PyObjectHashTable.get_item\u001b[0;34m()\u001b[0m\n",
      "File \u001b[0;32mpandas/_libs/hashtable_class_helper.pxi:7089\u001b[0m, in \u001b[0;36mpandas._libs.hashtable.PyObjectHashTable.get_item\u001b[0;34m()\u001b[0m\n",
      "\u001b[0;31mKeyError\u001b[0m: 'test_acc'",
      "\nThe above exception was the direct cause of the following exception:\n",
      "\u001b[0;31mKeyError\u001b[0m                                  Traceback (most recent call last)",
      "Cell \u001b[0;32mIn[7], line 3\u001b[0m\n\u001b[1;32m      1\u001b[0m \u001b[38;5;66;03m# Extract final test accuracies\u001b[39;00m\n\u001b[1;32m      2\u001b[0m t_acc_tr \u001b[38;5;241m=\u001b[39m transformer_df[test_acc_col]\u001b[38;5;241m.\u001b[39mdropna()\u001b[38;5;241m.\u001b[39miloc[\u001b[38;5;241m-\u001b[39m\u001b[38;5;241m1\u001b[39m]\n\u001b[0;32m----> 3\u001b[0m t_acc_ls \u001b[38;5;241m=\u001b[39m \u001b[43mlstm_df\u001b[49m\u001b[43m[\u001b[49m\u001b[43mtest_acc_col\u001b[49m\u001b[43m]\u001b[49m\u001b[38;5;241m.\u001b[39mdropna()\u001b[38;5;241m.\u001b[39miloc[\u001b[38;5;241m-\u001b[39m\u001b[38;5;241m1\u001b[39m]\n\u001b[1;32m      5\u001b[0m models     \u001b[38;5;241m=\u001b[39m [\u001b[38;5;124m'\u001b[39m\u001b[38;5;124mTransformer\u001b[39m\u001b[38;5;124m'\u001b[39m, \u001b[38;5;124m'\u001b[39m\u001b[38;5;124mLSTM\u001b[39m\u001b[38;5;124m'\u001b[39m]\n\u001b[1;32m      6\u001b[0m accuracies \u001b[38;5;241m=\u001b[39m [t_acc_tr, t_acc_ls]\n",
      "File \u001b[0;32m/opt/conda/lib/python3.12/site-packages/pandas/core/frame.py:4102\u001b[0m, in \u001b[0;36mDataFrame.__getitem__\u001b[0;34m(self, key)\u001b[0m\n\u001b[1;32m   4100\u001b[0m \u001b[38;5;28;01mif\u001b[39;00m \u001b[38;5;28mself\u001b[39m\u001b[38;5;241m.\u001b[39mcolumns\u001b[38;5;241m.\u001b[39mnlevels \u001b[38;5;241m>\u001b[39m \u001b[38;5;241m1\u001b[39m:\n\u001b[1;32m   4101\u001b[0m     \u001b[38;5;28;01mreturn\u001b[39;00m \u001b[38;5;28mself\u001b[39m\u001b[38;5;241m.\u001b[39m_getitem_multilevel(key)\n\u001b[0;32m-> 4102\u001b[0m indexer \u001b[38;5;241m=\u001b[39m \u001b[38;5;28;43mself\u001b[39;49m\u001b[38;5;241;43m.\u001b[39;49m\u001b[43mcolumns\u001b[49m\u001b[38;5;241;43m.\u001b[39;49m\u001b[43mget_loc\u001b[49m\u001b[43m(\u001b[49m\u001b[43mkey\u001b[49m\u001b[43m)\u001b[49m\n\u001b[1;32m   4103\u001b[0m \u001b[38;5;28;01mif\u001b[39;00m is_integer(indexer):\n\u001b[1;32m   4104\u001b[0m     indexer \u001b[38;5;241m=\u001b[39m [indexer]\n",
      "File \u001b[0;32m/opt/conda/lib/python3.12/site-packages/pandas/core/indexes/base.py:3812\u001b[0m, in \u001b[0;36mIndex.get_loc\u001b[0;34m(self, key)\u001b[0m\n\u001b[1;32m   3807\u001b[0m     \u001b[38;5;28;01mif\u001b[39;00m \u001b[38;5;28misinstance\u001b[39m(casted_key, \u001b[38;5;28mslice\u001b[39m) \u001b[38;5;129;01mor\u001b[39;00m (\n\u001b[1;32m   3808\u001b[0m         \u001b[38;5;28misinstance\u001b[39m(casted_key, abc\u001b[38;5;241m.\u001b[39mIterable)\n\u001b[1;32m   3809\u001b[0m         \u001b[38;5;129;01mand\u001b[39;00m \u001b[38;5;28many\u001b[39m(\u001b[38;5;28misinstance\u001b[39m(x, \u001b[38;5;28mslice\u001b[39m) \u001b[38;5;28;01mfor\u001b[39;00m x \u001b[38;5;129;01min\u001b[39;00m casted_key)\n\u001b[1;32m   3810\u001b[0m     ):\n\u001b[1;32m   3811\u001b[0m         \u001b[38;5;28;01mraise\u001b[39;00m InvalidIndexError(key)\n\u001b[0;32m-> 3812\u001b[0m     \u001b[38;5;28;01mraise\u001b[39;00m \u001b[38;5;167;01mKeyError\u001b[39;00m(key) \u001b[38;5;28;01mfrom\u001b[39;00m\u001b[38;5;250m \u001b[39m\u001b[38;5;21;01merr\u001b[39;00m\n\u001b[1;32m   3813\u001b[0m \u001b[38;5;28;01mexcept\u001b[39;00m \u001b[38;5;167;01mTypeError\u001b[39;00m:\n\u001b[1;32m   3814\u001b[0m     \u001b[38;5;66;03m# If we have a listlike key, _check_indexing_error will raise\u001b[39;00m\n\u001b[1;32m   3815\u001b[0m     \u001b[38;5;66;03m#  InvalidIndexError. Otherwise we fall through and re-raise\u001b[39;00m\n\u001b[1;32m   3816\u001b[0m     \u001b[38;5;66;03m#  the TypeError.\u001b[39;00m\n\u001b[1;32m   3817\u001b[0m     \u001b[38;5;28mself\u001b[39m\u001b[38;5;241m.\u001b[39m_check_indexing_error(key)\n",
      "\u001b[0;31mKeyError\u001b[0m: 'test_acc'"
     ]
    }
   ],
   "source": [
    "# Extract final test accuracies\n",
    "t_acc_tr = transformer_df[test_acc_col].dropna().iloc[-1]\n",
    "t_acc_ls = lstm_df[test_acc_col].dropna().iloc[-1]\n",
    "\n",
    "models     = ['Transformer', 'LSTM']\n",
    "accuracies = [t_acc_tr, t_acc_ls]\n",
    "\n",
    "plt.figure(figsize=(6, 5))\n",
    "bars = plt.bar(models, accuracies, alpha=0.8)\n",
    "plt.ylim(0, 1)\n",
    "plt.ylabel('Test Accuracy (No Teacher Forcing)', fontsize=14)\n",
    "plt.title('Comparison of Test Accuracies', fontsize=16)\n",
    "plt.grid(axis='y', alpha=0.3)\n",
    "\n",
    "# Annotate\n",
    "for bar, acc in zip(bars, accuracies):\n",
    "    plt.text(bar.get_x() + bar.get_width()/2, bar.get_height() + 0.02,\n",
    "             f'{acc:.3f}', ha='center', va='bottom', fontsize=12)\n",
    "\n",
    "plt.tight_layout()\n",
    "plt.show()\n"
   ]
  },
  {
   "cell_type": "markdown",
   "id": "d0c3d971-58a0-4626-9155-9c0860aaabd3",
   "metadata": {},
   "source": [
    "## Qualitative Observations\n",
    "\n",
    "1. **Convergence Speed**  \n",
    "   - The Transformer often reduces loss faster early on thanks to attention.  \n",
    "   - The LSTM may take longer but can catch up with residual connections.\n",
    "\n",
    "2. **Generalization & Stability**  \n",
    "   - Inspect gaps between training loss and validation accuracy curves for overfitting.  \n",
    "   - Transformer typically shows smoother, more stable validation metrics.\n",
    "\n",
    "3. **Autonomous Generation**  \n",
    "   - Test accuracy (no teacher forcing) reveals each model’s real‐world sequence‐generation ability.  \n",
    "   - Bar plot highlights which architecture manages generation under realistic conditions.\n",
    "\n",
    "4. **Architecture Trade‑offs**  \n",
    "   - **Transformer**: excels at capturing long‐range dependencies but is heavier.  \n",
    "   - **LSTM**: more sequential but with residuals mitigates vanishing gradients.\n"
   ]
  },
  {
   "cell_type": "code",
   "execution_count": null,
   "id": "c938daa4-2354-4917-9ea7-dd7fc240d5d3",
   "metadata": {},
   "outputs": [],
   "source": []
  }
 ],
 "metadata": {
  "kernelspec": {
   "display_name": "Python 3 (ipykernel)",
   "language": "python",
   "name": "python3"
  },
  "language_info": {
   "codemirror_mode": {
    "name": "ipython",
    "version": 3
   },
   "file_extension": ".py",
   "mimetype": "text/x-python",
   "name": "python",
   "nbconvert_exporter": "python",
   "pygments_lexer": "ipython3",
   "version": "3.12.8"
  }
 },
 "nbformat": 4,
 "nbformat_minor": 5
}
